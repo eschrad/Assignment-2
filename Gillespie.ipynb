{
 "cells": [
  {
   "cell_type": "code",
   "execution_count": 2,
   "metadata": {},
   "outputs": [],
   "source": [
    "#packages \n",
    "from sympy.interactive import printing\n",
    "\n",
    "import scipy\n",
    "from scipy import optimize, integrate, fftpack, pi\n",
    "\n",
    "import numpy as np\n",
    "\n",
    "import pylab\n",
    "import math\n",
    "\n",
    "import matplotlib\n",
    "import matplotlib.pyplot as plt\n",
    "import matplotlib.gridspec as gridspec\n",
    "\n",
    "printing.init_printing(use_latex=True)"
   ]
  },
  {
   "cell_type": "code",
   "execution_count": 3,
   "metadata": {},
   "outputs": [
    {
     "ename": "SyntaxError",
     "evalue": "invalid syntax (<ipython-input-3-cdc6483806b0>, line 31)",
     "output_type": "error",
     "traceback": [
      "\u001b[0;36m  File \u001b[0;32m\"<ipython-input-3-cdc6483806b0>\"\u001b[0;36m, line \u001b[0;32m31\u001b[0m\n\u001b[0;31m    if P > and P >=\u001b[0m\n\u001b[0m             ^\u001b[0m\n\u001b[0;31mSyntaxError\u001b[0m\u001b[0;31m:\u001b[0m invalid syntax\n"
     ]
    }
   ],
   "source": [
    "#Starting parameters\n",
    "beta = 1\n",
    "gamma = 0.1\n",
    "t = np.linspace(0,100,1000)\n",
    "\n",
    "#Gillespie\n",
    "def Gillespie(y, dt):\n",
    "    V = y    \n",
    "    event = np.zeros((6))\n",
    "    change = np.zeros((6,3))\n",
    "    N = np.sum(V[range(3)])\n",
    "    \n",
    "    #EVENTS\n",
    "    event[0] = mu*N; change[0,:]=([+1,0,0]) #Birth\n",
    "    event[1] = beta*X*Y/N; change[1,:]=([-1,+1,0])#Transmission\n",
    "    event[2] = gamma*Y; change[2,:]=([0,-1,+1])#Recovery\n",
    "    event[3] = mu*X; change[3,:]=([-1,0,0]) #Death X\n",
    "    event[4] = mu*Y; change[4,:]=([0,-1,0]) #Death Y\n",
    "    event[5] = mu*Z; change[5,:]=([0,0,-1]) #Death Z\n",
    "          \n",
    "    #rate at which an event occurs \n",
    "    R_total = np.sum(event)\n",
    "    R_1 = np.random.rand()\n",
    "    dt = -1*math.log(RAND_1)/R_total\n",
    "    \n",
    "    #set P\n",
    "    R_2 = np.random.rand()\n",
    "    P = R_2*R_total\n",
    "    \n",
    "    #Event p occurs if (STEP 6 page 201)\n",
    "    if P > and P >= \n",
    "        t = t+dt\n",
    "    \n",
    "    \n",
    "    return[V, dt]        \n",
    "\n",
    "def SIR (y, mu,beta,gamma):\n",
    "    \n",
    "    \n",
    "    return[]    "
   ]
  },
  {
   "cell_type": "code",
   "execution_count": null,
   "metadata": {},
   "outputs": [],
   "source": []
  }
 ],
 "metadata": {
  "kernelspec": {
   "display_name": "Python 3",
   "language": "python",
   "name": "python3"
  },
  "language_info": {
   "codemirror_mode": {
    "name": "ipython",
    "version": 3
   },
   "file_extension": ".py",
   "mimetype": "text/x-python",
   "name": "python",
   "nbconvert_exporter": "python",
   "pygments_lexer": "ipython3",
   "version": "3.7.4"
  }
 },
 "nbformat": 4,
 "nbformat_minor": 2
}
